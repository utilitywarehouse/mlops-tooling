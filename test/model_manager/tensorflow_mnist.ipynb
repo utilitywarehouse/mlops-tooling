{
 "cells": [
  {
   "cell_type": "code",
   "execution_count": 6,
   "metadata": {},
   "outputs": [
    {
     "name": "stderr",
     "output_type": "stream",
     "text": [
      "/Users/benhicks/Documents/UW/mlops-tooling/.venv/lib/python3.10/site-packages/tqdm/auto.py:21: TqdmWarning: IProgress not found. Please update jupyter and ipywidgets. See https://ipywidgets.readthedocs.io/en/stable/user_install.html\n",
      "  from .autonotebook import tqdm as notebook_tqdm\n"
     ]
    }
   ],
   "source": [
    "import tensorflow as tf\n",
    "import tensorflow_datasets as tfds"
   ]
  },
  {
   "cell_type": "code",
   "execution_count": 7,
   "metadata": {},
   "outputs": [
    {
     "name": "stdout",
     "output_type": "stream",
     "text": [
      "\u001b[1mDownloading and preparing dataset 11.06 MiB (download: 11.06 MiB, generated: 21.00 MiB, total: 32.06 MiB) to /Users/benhicks/tensorflow_datasets/mnist/3.0.1...\u001b[0m\n"
     ]
    },
    {
     "name": "stderr",
     "output_type": "stream",
     "text": [
      "Dl Completed...: 100%|██████████| 5/5 [00:03<00:00,  1.57 file/s]"
     ]
    },
    {
     "name": "stdout",
     "output_type": "stream",
     "text": [
      "\u001b[1mDataset mnist downloaded and prepared to /Users/benhicks/tensorflow_datasets/mnist/3.0.1. Subsequent calls will reuse this data.\u001b[0m\n"
     ]
    },
    {
     "name": "stderr",
     "output_type": "stream",
     "text": [
      "\n"
     ]
    }
   ],
   "source": [
    "(ds_train, ds_test), ds_info = tfds.load(\n",
    "    'mnist',\n",
    "    split=['train', 'test'],\n",
    "    shuffle_files=True,\n",
    "    as_supervised=True,\n",
    "    with_info=True,\n",
    ")"
   ]
  },
  {
   "cell_type": "code",
   "execution_count": 8,
   "metadata": {},
   "outputs": [],
   "source": [
    "def normalize_img(image, label):\n",
    "  \"\"\"Normalizes images: `uint8` -> `float32`.\"\"\"\n",
    "  return tf.cast(image, tf.float32) / 255., label\n",
    "\n",
    "ds_train = ds_train.map(\n",
    "    normalize_img, num_parallel_calls=tf.data.AUTOTUNE)\n",
    "ds_train = ds_train.cache()\n",
    "ds_train = ds_train.shuffle(ds_info.splits['train'].num_examples)\n",
    "ds_train = ds_train.batch(128)\n",
    "ds_train = ds_train.prefetch(tf.data.AUTOTUNE)"
   ]
  },
  {
   "cell_type": "code",
   "execution_count": 9,
   "metadata": {},
   "outputs": [],
   "source": [
    "ds_test = ds_test.map(\n",
    "    normalize_img, num_parallel_calls=tf.data.AUTOTUNE)\n",
    "ds_test = ds_test.batch(128)\n",
    "ds_test = ds_test.cache()\n",
    "ds_test = ds_test.prefetch(tf.data.AUTOTUNE)"
   ]
  },
  {
   "cell_type": "code",
   "execution_count": 11,
   "metadata": {},
   "outputs": [
    {
     "name": "stdout",
     "output_type": "stream",
     "text": [
      "Epoch 1/6\n",
      "469/469 [==============================] - 5s 9ms/step - loss: 0.4103 - sparse_categorical_accuracy: 0.8834 - val_loss: 0.2918 - val_sparse_categorical_accuracy: 0.9166\n",
      "Epoch 2/6\n",
      "469/469 [==============================] - 4s 9ms/step - loss: 0.2929 - sparse_categorical_accuracy: 0.9178 - val_loss: 0.2811 - val_sparse_categorical_accuracy: 0.9236\n",
      "Epoch 3/6\n",
      "469/469 [==============================] - 4s 9ms/step - loss: 0.2825 - sparse_categorical_accuracy: 0.9213 - val_loss: 0.2838 - val_sparse_categorical_accuracy: 0.9200\n",
      "Epoch 4/6\n",
      "469/469 [==============================] - 4s 9ms/step - loss: 0.2788 - sparse_categorical_accuracy: 0.9234 - val_loss: 0.2823 - val_sparse_categorical_accuracy: 0.9210\n",
      "Epoch 5/6\n",
      "469/469 [==============================] - 4s 9ms/step - loss: 0.2794 - sparse_categorical_accuracy: 0.9215 - val_loss: 0.2864 - val_sparse_categorical_accuracy: 0.9237\n",
      "Epoch 6/6\n",
      "469/469 [==============================] - 4s 8ms/step - loss: 0.2785 - sparse_categorical_accuracy: 0.9219 - val_loss: 0.2963 - val_sparse_categorical_accuracy: 0.9190\n"
     ]
    },
    {
     "data": {
      "text/plain": [
       "<keras.callbacks.History at 0x2e56ac490>"
      ]
     },
     "execution_count": 11,
     "metadata": {},
     "output_type": "execute_result"
    }
   ],
   "source": [
    "model = tf.keras.models.Sequential([\n",
    "  tf.keras.layers.Flatten(input_shape=(28, 28)),\n",
    "  tf.keras.layers.Dense(128, activation='relu'),\n",
    "  tf.keras.layers.Dense(10)\n",
    "])\n",
    "model.compile(\n",
    "    optimizer=tf.keras.optimizers.legacy.Adam(0.001),\n",
    "    loss=tf.keras.losses.SparseCategoricalCrossentropy(from_logits=True),\n",
    "    metrics=[tf.keras.metrics.SparseCategoricalAccuracy()],\n",
    ")\n",
    "\n",
    "model.fit(\n",
    "    ds_train,\n",
    "    epochs=6,\n",
    "    validation_data=ds_test,\n",
    ")"
   ]
  },
  {
   "cell_type": "code",
   "execution_count": 14,
   "metadata": {},
   "outputs": [],
   "source": [
    "from mlops_tooling import ModelManager"
   ]
  },
  {
   "cell_type": "code",
   "execution_count": 15,
   "metadata": {},
   "outputs": [],
   "source": [
    "metrics = {\n",
    "    \"loss\": 0.2785,\n",
    "    \"sparse_categorical_accuracy\": 0.9219,\n",
    "    \"val_loss\": 0.2963,\n",
    "    \"val_sparse_categorical_accuracy\": 0.9190\n",
    "}"
   ]
  },
  {
   "cell_type": "code",
   "execution_count": 18,
   "metadata": {},
   "outputs": [],
   "source": [
    "LOCATION = \"europe-west2\"\n",
    "API_ENDPOINT = \"europe-west2-aiplatform.googleapis.com\"\n",
    "TRACKING_URI = \"https://mlflow.dev.gcp.uw.systems/\"\n",
    "GOOGLE_PROJECT = 'uw-data-science-dev'\n",
    "GCS_BUCKET =  \"gs://uw-data-science-model-artifacts\"\n",
    "\n",
    "mlflow = ModelManager(\n",
    "    tracking_uri = TRACKING_URI,\n",
    "    google_project=GOOGLE_PROJECT,\n",
    "    gcs_bucket=GCS_BUCKET,\n",
    "    \n",
    "    serving_container_image_uri=\"europe-docker.pkg.dev/vertex-ai/prediction/tf-cpu.2-11.py310:latest\"\n",
    ")"
   ]
  },
  {
   "cell_type": "code",
   "execution_count": 19,
   "metadata": {},
   "outputs": [],
   "source": [
    "experiment_name = \"MNIST Test\"\n",
    "mlflow.create_new_experiment(experiment_name)"
   ]
  },
  {
   "cell_type": "code",
   "execution_count": 20,
   "metadata": {},
   "outputs": [
    {
     "name": "stderr",
     "output_type": "stream",
     "text": [
      "2023/07/04 09:34:59 WARNING mlflow.tensorflow: You are saving a TensorFlow Core model or Keras model without a signature. Inference with mlflow.pyfunc.spark_udf() will not work unless the model's pyfunc representation accepts pandas DataFrames as inference inputs.\n"
     ]
    },
    {
     "name": "stdout",
     "output_type": "stream",
     "text": [
      "INFO:tensorflow:Assets written to: /var/folders/xy/2pcnq4kj58xfn6t2h3zfng080000gp/T/tmpfr0fauxz/model/data/model/assets\n"
     ]
    },
    {
     "name": "stderr",
     "output_type": "stream",
     "text": [
      "INFO:tensorflow:Assets written to: /var/folders/xy/2pcnq4kj58xfn6t2h3zfng080000gp/T/tmpfr0fauxz/model/data/model/assets\n",
      "/Users/benhicks/Documents/UW/mlops-tooling/.venv/lib/python3.10/site-packages/_distutils_hack/__init__.py:33: UserWarning: Setuptools is replacing distutils.\n",
      "  warnings.warn(\"Setuptools is replacing distutils.\")\n"
     ]
    }
   ],
   "source": [
    "mlflow.log_results(\n",
    "    experiment_name=experiment_name,\n",
    "    run_name=\"04-07-2023_MNIST_Test\",\n",
    "    model=model,\n",
    "    parameters={},\n",
    "    metrics=metrics,\n",
    "    model_type='tensorflow'\n",
    ")"
   ]
  }
 ],
 "metadata": {
  "kernelspec": {
   "display_name": ".venv",
   "language": "python",
   "name": "python3"
  },
  "language_info": {
   "codemirror_mode": {
    "name": "ipython",
    "version": 3
   },
   "file_extension": ".py",
   "mimetype": "text/x-python",
   "name": "python",
   "nbconvert_exporter": "python",
   "pygments_lexer": "ipython3",
   "version": "3.10.11"
  },
  "orig_nbformat": 4
 },
 "nbformat": 4,
 "nbformat_minor": 2
}
