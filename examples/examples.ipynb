{
 "cells": [
  {
   "cell_type": "code",
   "execution_count": null,
   "metadata": {},
   "outputs": [],
   "source": [
    "from mlops_tooling import BigQuery"
   ]
  },
  {
   "cell_type": "code",
   "execution_count": null,
   "metadata": {},
   "outputs": [],
   "source": [
    "bq = BigQuery(path = './sql', credentials = 'your-sa.json')"
   ]
  },
  {
   "cell_type": "code",
   "execution_count": null,
   "metadata": {},
   "outputs": [],
   "source": [
    "table = bq.table('table')"
   ]
  },
  {
   "cell_type": "code",
   "execution_count": null,
   "metadata": {},
   "outputs": [],
   "source": [
    "if_state_df = bq.query('example_if.sql', limit = 100)"
   ]
  },
  {
   "cell_type": "code",
   "execution_count": null,
   "metadata": {},
   "outputs": [],
   "source": [
    "sample_state_df = bq.query('example_if.sql', sample = 40)"
   ]
  },
  {
   "cell_type": "code",
   "execution_count": null,
   "metadata": {},
   "outputs": [],
   "source": [
    "data = { \n",
    "    \"id_column\": \"idx\",\n",
    "    \"column_1\": \"col_a\",\n",
    "    \"column_2\": \"col_d\",\n",
    "    \"table_name\": \"my_little_table\",\n",
    "    \"sample\": 20,\n",
    "    \"limit\": 100\n",
    "}\n",
    "\n",
    "if_state_df = bq.query('example_if_sample_sub.sql', limt)"
   ]
  }
 ],
 "metadata": {
  "kernelspec": {
   "display_name": "mlops-tooling-qII2uDg6-py3.9",
   "language": "python",
   "name": "python3"
  },
  "language_info": {
   "codemirror_mode": {
    "name": "ipython",
    "version": 3
   },
   "file_extension": ".py",
   "mimetype": "text/x-python",
   "name": "python",
   "nbconvert_exporter": "python",
   "pygments_lexer": "ipython3",
   "version": "3.10.11"
  },
  "orig_nbformat": 4
 },
 "nbformat": 4,
 "nbformat_minor": 2
}
